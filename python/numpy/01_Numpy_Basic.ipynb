{
 "cells": [
  {
   "cell_type": "markdown",
   "id": "c68207cf",
   "metadata": {},
   "source": [
    "# Numpy Basics\n",
    "\n",
    "This Jupyter Notebook is part of a series of code resources made available in the repository linked to my Medium publication on the NumPy library. The series is designed to provide readers with practical, in-depth understanding of various NumPy functionalities, an essential library for scientific computing in Python. Here, we explore everything from basic concepts and array manipulation to advanced mathematical operations and broadcasting techniques, offering detailed code examples for each topic covered.\n",
    "\n",
    "Medium:\n",
    "\n",
    "Numpy: https://numpy.org/\n",
    "\n",
    "----\n",
    "\n",
    "This notebook is dedicated to the fundamentals of NumPy, including array creation, important attributes, and various ways to access and manipulate array elements. We cover essential topics such as:\n",
    "\n",
    "- Creation of arrays and their basic attributes.\n",
    "- Accessing elements, including access through loops.\n",
    "- Slicing techniques for selecting and manipulating subsets of arrays.\n",
    "\n",
    "This material serves as a solid foundation for those starting with NumPy, providing the necessary knowledge to work efficiently with numeric arrays in Python.\n"
   ]
  },
  {
   "cell_type": "code",
   "execution_count": 1,
   "id": "b216327d",
   "metadata": {},
   "outputs": [],
   "source": [
    "# Installation\n",
    "#pip install numpy"
   ]
  },
  {
   "cell_type": "code",
   "execution_count": 2,
   "id": "aa609ae0",
   "metadata": {},
   "outputs": [],
   "source": [
    "# Import Numpy\n",
    "import numpy as np"
   ]
  },
  {
   "cell_type": "markdown",
   "id": "ce3cae03",
   "metadata": {},
   "source": [
    "# Creating arrays"
   ]
  },
  {
   "cell_type": "markdown",
   "id": "ddc17a43",
   "metadata": {},
   "source": [
    "The foundational data structure in NumPy is the array, which operates similarly to Python lists but with notable differences:\n",
    "\n",
    "- Every element within an array must be of the same type, typically a numerical type such as float or int.\n",
    "- Arrays enable efficient execution of numerical operations on large volumes of data, outperforming lists in terms of efficiency for these purposes.\n",
    "- Each dimension of an array is referred to as an axis, with axes numbered starting from 0.\n",
    "\n",
    "Elements are accessed using square brackets [], similar to Python lists, facilitating intuitive interaction with the array's contents."
   ]
  },
  {
   "cell_type": "code",
   "execution_count": 47,
   "id": "4a32d816",
   "metadata": {},
   "outputs": [
    {
     "name": "stdout",
     "output_type": "stream",
     "text": [
      "1D array from a python list\n",
      "[1, 2, 3, 4, 5] <class 'list'>\n",
      "[1 2 3 4 5] <class 'numpy.ndarray'>\n",
      "\n",
      " [0. 0. 0. 0. 0. 0. 0. 0. 0. 0.]\n",
      "\n",
      " [1. 1. 1. 1. 1. 1. 1. 1. 1. 1.]\n",
      "\n",
      " [0 1 2 3 4 5 6 7 8 9]\n",
      "\n",
      " [1.         1.44444444 1.88888889 2.33333333 2.77777778 3.22222222\n",
      " 3.66666667 4.11111111 4.55555556 5.        ]\n",
      "\n",
      " [ 9 14 19  2  9  1]\n",
      "\n",
      " [0.03375485 0.09062348 0.06053539 0.99069221 0.89949736 0.76064228\n",
      " 0.98040449 0.50737763 0.29422618 0.99485766]\n"
     ]
    }
   ],
   "source": [
    "# one-dimensional array from a python list\n",
    "py_list = [1,2,3,4,5]\n",
    "arr = np.array(py_list)\n",
    "print(\"1D array from a python list\")\n",
    "print(py_list, type(py_list))\n",
    "print(arr, type(arr))\n",
    "\n",
    "# One-dimensional array with numpy methods\n",
    "# Creates an array of zeros with 10 elements\n",
    "arr_1 = np.zeros((10))\n",
    "print(\"\\n\",arr_1)\n",
    "\n",
    "# Creates an array of ones with 10 elements\n",
    "arr_2 = np.ones((10))\n",
    "print(\"\\n\",arr_2)\n",
    "\n",
    "# Creates an array with a sequence of integers from 0 up to, but not including, 10\n",
    "arr_3 = np.arange(0,10)\n",
    "print(\"\\n\",arr_3)\n",
    "\n",
    "# Creates an array of 10 evenly spaced values between 1 and 5\n",
    "arr_4 = np.linspace(start = 1,stop = 5, num = 10)\n",
    "print(\"\\n\",arr_4)\n",
    "\n",
    "# Creates an array with random methods\n",
    "arr_5 = np.random.randint(low = 1, high = 20, size = 6)\n",
    "print(\"\\n\",arr_5)\n",
    "\n",
    "arr_6 = np.random.random(size = 10)\n",
    "print(\"\\n\",arr_6)"
   ]
  },
  {
   "cell_type": "code",
   "execution_count": 35,
   "id": "3a40160b",
   "metadata": {},
   "outputs": [
    {
     "name": "stdout",
     "output_type": "stream",
     "text": [
      "Multi-dimensional array - matrix\n",
      "[[1 2 3]\n",
      " [4 5 6]] <class 'numpy.ndarray'>\n",
      "\n",
      " [[0. 0. 0.]\n",
      " [0. 0. 0.]]\n",
      "\n",
      " [[1. 1.]\n",
      " [1. 1.]\n",
      " [1. 1.]]\n",
      "\n",
      " [[1. 0. 0. 0.]\n",
      " [0. 1. 0. 0.]\n",
      " [0. 0. 1. 0.]\n",
      " [0. 0. 0. 1.]]\n"
     ]
    }
   ],
   "source": [
    "# Two-dimensional array (matrix) from a python list\n",
    "matrix = np.array([[1,2,3],[4,5,6]])\n",
    "print(\"Multi-dimensional array - matrix\")\n",
    "print(matrix, type(matrix))\n",
    "\n",
    "# Two-dimensional array with numpy methods\n",
    "# Creates an matrix of zeros with 2x3 elements\n",
    "matrix_1 = np.zeros((2,3))\n",
    "print(\"\\n\",matrix_1)\n",
    "\n",
    "# Creates an matrix of ones with 3x2 elements\n",
    "matrix_2 = np.ones((3,2))\n",
    "print(\"\\n\",matrix_2)\n",
    "\n",
    "# Creates an identity matrix of ones with 4x4 elements\n",
    "matrix_3 = np.identity(4)\n",
    "print(\"\\n\",matrix_3)"
   ]
  },
  {
   "cell_type": "markdown",
   "id": "0c478fe9",
   "metadata": {},
   "source": [
    "# Attributes\n",
    "\n",
    "Numpy arrays, known as ndarrays, come with a variety of attributes:\n",
    "\n",
    "- ndarray.ndim indicates the number of axes (dimensions) of the array.\n",
    "- ndarray.shape is a tuple of integers showing the array's size in each dimension.\n",
    "- ndarray.size represents the total number of elements within the array.\n",
    "- ndarray.dtype specifies the type of the elements in the array.\n",
    "- ndarray.itemsize reveals the size in bytes of each array element.\n",
    "- ndarray.data is the memory buffer that holds the array's elements."
   ]
  },
  {
   "cell_type": "code",
   "execution_count": 38,
   "id": "0d5d9664",
   "metadata": {},
   "outputs": [
    {
     "name": "stdout",
     "output_type": "stream",
     "text": [
      "Number of dimensions (ndim): 2\n",
      "Shape of the array: (2, 3)\n",
      "Total number of elements (size): 6\n",
      "Data type of the elements (dtype): int32\n",
      "Size in bytes of each element (itemsize): 4\n"
     ]
    }
   ],
   "source": [
    "# Create a 2D numpy array\n",
    "array = np.array([[1, 2, 3], [4, 5, 6]])\n",
    "\n",
    "# Number of dimensions of the array\n",
    "print(\"Number of dimensions (ndim):\", array.ndim)\n",
    "\n",
    "# Shape of the array\n",
    "print(\"Shape of the array:\", array.shape)\n",
    "\n",
    "# Total number of elements in the array\n",
    "print(\"Total number of elements (size):\", array.size)\n",
    "\n",
    "# Data type of the array elements\n",
    "print(\"Data type of the elements (dtype):\", array.dtype)\n",
    "\n",
    "# Size in bytes of each element in the array\n",
    "print(\"Size in bytes of each element (itemsize):\", array.itemsize)"
   ]
  },
  {
   "cell_type": "markdown",
   "id": "543e4f4c",
   "metadata": {},
   "source": [
    "# Accessing elements"
   ]
  },
  {
   "cell_type": "code",
   "execution_count": 40,
   "id": "ef3ae8a6",
   "metadata": {},
   "outputs": [
    {
     "name": "stdout",
     "output_type": "stream",
     "text": [
      "Element at [1, 2]: 6\n",
      "First row: [1 2 3]\n",
      "Second column: [2 5]\n",
      "Slicing, first row, first to second (exclusive): [1 2]\n",
      "Element at the end, using negative indexing: 6\n",
      "Every other element from the first row: [1 3]\n"
     ]
    }
   ],
   "source": [
    "# Create a 2D numpy array\n",
    "array = np.array([[1, 2, 3], [4, 5, 6]])\n",
    "\n",
    "# Accessing a specific element [row, column]: \n",
    "# Element at 1st row and 2nd column (remember, indexing starts at 0)\n",
    "print(\"Element at [1, 2]:\", array[1, 2])\n",
    "\n",
    "# Accessing a specific row\n",
    "print(\"First row:\", array[0, :])\n",
    "\n",
    "# Accessing a specific column\n",
    "print(\"Second column:\", array[:, 1])\n",
    "\n",
    "# Accessing a range of elements (slicing): \n",
    "# Elements from the first row, first to second (exclusive)\n",
    "print(\"Slicing, first row, first to second (exclusive):\", array[0, 0:2])\n",
    "\n",
    "# Using negative indexing to access elements from the end: \n",
    "# Last element in the last row\n",
    "print(\"Element at the end, using negative indexing:\", array[-1, -1])\n",
    "\n",
    "# Accessing elements with step: \n",
    "# Every other element from the first row\n",
    "print(\"Every other element from the first row:\", array[0, ::2])\n"
   ]
  },
  {
   "cell_type": "markdown",
   "id": "b0c3e345",
   "metadata": {},
   "source": [
    "# Accessing with loop for\n",
    "\n",
    "Iterating over an array using a for loop in Python allows you to access each element of the array sequentially. This technique is particularly useful when you need to perform operations on each element of the array or when you want to process the elements in a custom manner."
   ]
  },
  {
   "cell_type": "code",
   "execution_count": 44,
   "id": "d24935db",
   "metadata": {},
   "outputs": [
    {
     "name": "stdout",
     "output_type": "stream",
     "text": [
      "1\n",
      "2\n",
      "3\n",
      "4\n"
     ]
    }
   ],
   "source": [
    "'''\n",
    "For a one-dimensional array, iterating with a for loop is straightforward. \n",
    "Each iteration of the loop retrieves one element from the array, \n",
    "starting from the first element and continuing until \n",
    "the last element is reached.\n",
    "'''\n",
    "\n",
    "# Creating a one-dimensional numpy array\n",
    "array_1d = np.array([1, 2, 3, 4])\n",
    "\n",
    "# Iterating over a one-dimensional array\n",
    "for element in array_1d:\n",
    "    print(element)"
   ]
  },
  {
   "cell_type": "code",
   "execution_count": 45,
   "id": "a0520d4e",
   "metadata": {},
   "outputs": [
    {
     "name": "stdout",
     "output_type": "stream",
     "text": [
      "Row: [1 2 3]\n",
      "1\n",
      "2\n",
      "3\n",
      "Row: [4 5 6]\n",
      "4\n",
      "5\n",
      "6\n"
     ]
    }
   ],
   "source": [
    "'''\n",
    "For multi-dimensional arrays, iterating with a for loop accesses \n",
    "the array row by row (or along the first axis). \n",
    "If you want to access each element individually in a multi-dimensional array,\n",
    "you can nest for loops - one for each dimension of the array.\n",
    "'''\n",
    "\n",
    "# Creating a two-dimensional numpy array\n",
    "array_2d = np.array([[1, 2, 3], [4, 5, 6]])\n",
    "\n",
    "# Iterating over a two-dimensional array (row by row)\n",
    "for row in array_2d:\n",
    "    print(\"Row:\", row)\n",
    "    # To access individual elements, iterate over each row\n",
    "    for element in row:\n",
    "        print(element)"
   ]
  },
  {
   "cell_type": "code",
   "execution_count": 46,
   "id": "a5055c5a",
   "metadata": {},
   "outputs": [
    {
     "name": "stdout",
     "output_type": "stream",
     "text": [
      "1\n",
      "2\n",
      "3\n",
      "4\n",
      "5\n",
      "6\n"
     ]
    }
   ],
   "source": [
    "'''\n",
    "Numpy also provides functions like nditer() to facilitate efficient iteration \n",
    "over arrays of any dimensionality, offering more flexibility and efficiency, \n",
    "especially for large and multi-dimensional arrays.\n",
    "'''\n",
    "# Efficient iteration over multi-dimensional arrays using nditer()\n",
    "for element in np.nditer(array_2d):\n",
    "    print(element)\n"
   ]
  },
  {
   "cell_type": "markdown",
   "id": "4b760d63",
   "metadata": {},
   "source": [
    "# Slicing\n",
    "\n",
    "The most efficient way to traverse an array is through 'slicing', which avoids the use of for loops that are computationally much less efficient.\n",
    "\n",
    "Array slicing operates similarly to list slicing but extends to multiple dimensions. Omitting an index effectively retrieves the entire dimension that's omitted. Importantly, a slice is a \"view\" of the original array, similar to a reference, meaning the data is not copied. This approach allows for efficient data manipulation and access without the overhead of duplicating large amounts of data."
   ]
  },
  {
   "cell_type": "code",
   "execution_count": 51,
   "id": "5c7c328c",
   "metadata": {},
   "outputs": [
    {
     "name": "stdout",
     "output_type": "stream",
     "text": [
      "Second row: [4 5 6]\n",
      "First column: [1 4 7]\n",
      "Sub-array with the first two rows and last two columns: [[2 3]\n",
      " [5 6]]\n",
      "Every other element from the last row: [7 9]\n",
      "Original array after modifying the slice: [[ 1 99  3]\n",
      " [ 4  5  6]\n",
      " [ 7  8  9]]\n"
     ]
    }
   ],
   "source": [
    "# Creating a two-dimensional numpy array\n",
    "array_2d = np.array([[1, 2, 3], [4, 5, 6], [7, 8, 9]])\n",
    "\n",
    "# Slicing to get the second row\n",
    "second_row = array_2d[1, :]\n",
    "print(\"Second row:\", second_row)\n",
    "\n",
    "# Slicing to get the first column\n",
    "first_column = array_2d[:, 0]\n",
    "print(\"First column:\", first_column)\n",
    "\n",
    "# Slicing to get a sub-array of the first two rows and last two columns\n",
    "sub_array = array_2d[0:2, 1:3]\n",
    "print(\"Sub-array with the first two rows and last two columns:\", sub_array)\n",
    "\n",
    "# Using a step in slicing to get every other element from the last row\n",
    "every_other = array_2d[-1, ::2]\n",
    "print(\"Every other element from the last row:\", every_other)\n",
    "\n",
    "# Demonstrating a slice is a view: Modifying the slice affects the original array\n",
    "sub_array[0, 0] = 99  # Modify the sub-array\n",
    "print(\"Original array after modifying the slice:\", array_2d)"
   ]
  },
  {
   "cell_type": "code",
   "execution_count": null,
   "id": "13f5a417",
   "metadata": {},
   "outputs": [],
   "source": []
  }
 ],
 "metadata": {
  "kernelspec": {
   "display_name": "Python 3 (ipykernel)",
   "language": "python",
   "name": "python3"
  },
  "language_info": {
   "codemirror_mode": {
    "name": "ipython",
    "version": 3
   },
   "file_extension": ".py",
   "mimetype": "text/x-python",
   "name": "python",
   "nbconvert_exporter": "python",
   "pygments_lexer": "ipython3",
   "version": "3.11.5"
  }
 },
 "nbformat": 4,
 "nbformat_minor": 5
}
