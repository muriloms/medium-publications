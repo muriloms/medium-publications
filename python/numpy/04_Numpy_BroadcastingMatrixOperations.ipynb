{
 "cells": [
  {
   "cell_type": "markdown",
   "id": "0f06f7df",
   "metadata": {},
   "source": [
    "# Broadcasting and Matrix Operations\n",
    "\n",
    "This Jupyter Notebook is part of a series of code resources made available in the repository linked to my Medium publication on the NumPy library. The series is designed to provide readers with practical, in-depth understanding of various NumPy functionalities, an essential library for scientific computing in Python. Here, we explore everything from basic concepts and array manipulation to advanced mathematical operations and broadcasting techniques, offering detailed code examples for each topic covered.\n",
    "\n",
    "Medium:\n",
    "\n",
    "Numpy: https://numpy.org/\n",
    "\n",
    "----\n",
    "\n",
    "This notebook focuses on two advanced areas of NumPy: broadcasting and matrix operations. Broadcasting allows for arithmetic operations between arrays of different sizes, while matrix operations cover essential calculations in linear algebra. We discuss:\n",
    "\n",
    "- Broadcasting with arrays and scalars, and between arrays, facilitating complex calculations without the need for explicit loops.\n",
    "- Matrix and vector operations, including matrix multiplication, dot products, and vector operations, crucial for scientific computations and engineering.\n",
    "\n",
    "These advanced topics demonstrate NumPy's power for data manipulation and complex mathematical calculations, serving as a valuable reference for scientific and data analysis applications."
   ]
  },
  {
   "cell_type": "code",
   "execution_count": 1,
   "id": "71af8f48",
   "metadata": {},
   "outputs": [],
   "source": [
    "import numpy as np"
   ]
  },
  {
   "cell_type": "markdown",
   "id": "d7b118d1",
   "metadata": {},
   "source": [
    "# Broadcasting\n",
    "To ensure computational efficiency in performing operations between arrays, NumPy employs an array extension mechanism known as \"broadcasting.\" Through broadcasting:\n",
    "\n",
    "Arithmetic operations on arrays (such as addition, subtraction, multiplication, and division) are conducted on an element-wise basis.\n",
    "Broadcasting manipulates the dimensions of the arrays involved in arithmetic operations so that they match, thereby enabling these operations to be carried out on an element-wise basis."
   ]
  },
  {
   "cell_type": "markdown",
   "id": "c5581e54",
   "metadata": {},
   "source": [
    "# Broadcasting and operations between an array and a scalar\n",
    "Broadcasting in NumPy is a powerful concept that allows for array operations between arrays of different shapes. It enables you to perform arithmetic operations on arrays without the need for explicitly matching their sizes. This feature is particularly useful for performing operations between an array and a scalar value.\n",
    "\n",
    "When performing operations between an array and a scalar, broadcasting automatically extends the scalar to match the shape of the array. This means that the scalar value is conceptually replicated to match the dimensions of the array, and then the operation is carried out element-wise. This allows for efficient and intuitive computations without manually resizing or replicating the scalar value across the array."
   ]
  },
  {
   "cell_type": "code",
   "execution_count": 2,
   "id": "160cd906",
   "metadata": {},
   "outputs": [
    {
     "name": "stdout",
     "output_type": "stream",
     "text": [
      "[1 2 3 4 5]\n",
      "\n",
      "Adding a scalar 10 to the array: [11 12 13 14 15]\n",
      "\n",
      "Multiplying the array by a scalar 2: [ 2  4  6  8 10]\n",
      "\n",
      "Subtracting a scalar 5 from the array: [-4 -3 -2 -1  0]\n",
      "\n",
      "Dividing the array by a scalar 2: [0.5 1.  1.5 2.  2.5]\n"
     ]
    }
   ],
   "source": [
    "# Creating a one-dimensional numpy array\n",
    "array = np.array([1, 2, 3, 4, 5])\n",
    "print(array)\n",
    "\n",
    "# Adding a scalar to the array\n",
    "add_scalar = array + 10\n",
    "print(\"\\nAdding a scalar 10 to the array:\", add_scalar)\n",
    "\n",
    "# Multiplying the array by a scalar\n",
    "multiply_scalar = array * 2\n",
    "print(\"\\nMultiplying the array by a scalar 2:\", multiply_scalar)\n",
    "\n",
    "# Subtracting a scalar from the array\n",
    "subtract_scalar = array - 5\n",
    "print(\"\\nSubtracting a scalar 5 from the array:\", subtract_scalar)\n",
    "\n",
    "# Dividing the array by a scalar\n",
    "divide_scalar = array / 2\n",
    "print(\"\\nDividing the array by a scalar 2:\", divide_scalar)"
   ]
  },
  {
   "cell_type": "markdown",
   "id": "2086a9a9",
   "metadata": {},
   "source": [
    "# Broadcasting and operations between arrays\n",
    "Broadcasting in NumPy is a technique that allows operations to be performed on arrays of different shapes. It automatically adjusts the shapes of arrays without explicitly resizing them, enabling you to perform arithmetic operations between arrays that wouldn't normally be compatible due to their different dimensions.\n",
    "\n",
    "For broadcasting to occur between two arrays, NumPy follows these rules:\n",
    "\n",
    "- If the arrays don't have the same number of dimensions, the shape of the smaller array is \"padded\" with ones on its leading (left) side.\n",
    "- If the shape of the two arrays does not match in any dimension, the array with shape equal to 1 in that dimension is stretched to match the other shape.\n",
    "- If in any dimension the sizes disagree and neither is equal to 1, a broadcasting error is raised."
   ]
  },
  {
   "cell_type": "code",
   "execution_count": 3,
   "id": "07938510",
   "metadata": {},
   "outputs": [
    {
     "name": "stdout",
     "output_type": "stream",
     "text": [
      "[[1 2 3]\n",
      " [4 5 6]\n",
      " [7 8 9]]\n",
      "\n",
      " [1 0 1]\n",
      "\n",
      "Adding 1D array to each row of 2D array:\n",
      " [[ 2  2  4]\n",
      " [ 5  5  7]\n",
      " [ 8  8 10]]\n",
      "\n",
      "Adding 1D column array to each column of 2D array:\n",
      " [[ 2  3  4]\n",
      " [ 6  7  8]\n",
      " [10 11 12]]\n",
      "\n",
      "Multiplying 2D array by a scalar 2:\n",
      " [[ 2  4  6]\n",
      " [ 8 10 12]\n",
      " [14 16 18]]\n"
     ]
    }
   ],
   "source": [
    "# Creating a two-dimensional numpy array (3x3)\n",
    "array2d = np.array([[1, 2, 3], [4, 5, 6], [7, 8, 9]])\n",
    "print(array2d)\n",
    "\n",
    "# Creating a one-dimensional numpy array\n",
    "array1d = np.array([1, 0, 1])\n",
    "print(\"\\n\",array1d)\n",
    "\n",
    "# Adding a 1D array to a 2D array\n",
    "add_arrays = array2d + array1d\n",
    "print(\"\\nAdding 1D array to each row of 2D array:\\n\", add_arrays)\n",
    "\n",
    "# Creating another 1D array for column-wise operation\n",
    "array1d_col = np.array([[1], [2], [3]])\n",
    "\n",
    "# Adding the column array to the 2D array\n",
    "add_columns = array2d + array1d_col\n",
    "print(\"\\nAdding 1D column array to each column of 2D array:\\n\", add_columns)\n",
    "\n",
    "# Multiplying a 2D array by a scalar using broadcasting\n",
    "multiply_scalar = array2d * 2\n",
    "print(\"\\nMultiplying 2D array by a scalar 2:\\n\", multiply_scalar)\n"
   ]
  },
  {
   "cell_type": "markdown",
   "id": "27dfa5a8",
   "metadata": {},
   "source": [
    "Broadcasting is also used in assignments"
   ]
  },
  {
   "cell_type": "code",
   "execution_count": 5,
   "id": "11ddc8d5",
   "metadata": {},
   "outputs": [
    {
     "name": "stdout",
     "output_type": "stream",
     "text": [
      "[[0. 0. 0.]\n",
      " [0. 0. 0.]\n",
      " [0. 0. 0.]\n",
      " [0. 0. 0.]\n",
      " [0. 0. 0.]]\n",
      "\n",
      " [[-1. -2. -3.]\n",
      " [-1. -2. -3.]\n",
      " [-1. -2. -3.]\n",
      " [ 0.  0.  0.]\n",
      " [ 0.  0.  0.]]\n"
     ]
    }
   ],
   "source": [
    "# Creating a two-dimensional numpy array (5x3)\n",
    "array2d = np.zeros((5,3))\n",
    "print(array2d)\n",
    "\n",
    "array2d[:3] = [-1,-2,-3]\n",
    "print(\"\\n\",array2d)"
   ]
  },
  {
   "cell_type": "markdown",
   "id": "afc4d4ef",
   "metadata": {},
   "source": [
    "# Matrix and vector operations\n",
    "NumPy provides extensive support for matrix and vector operations, essential for linear algebra and many scientific computations. These operations include matrix multiplication, dot products, cross products, and more. Vector operations are operations applied on arrays that represent vectors in a mathematical sense.\n",
    "\n",
    "- Matrix Multiplication: Performed using the `@` operator or the `np.dot` function. It computes the dot product of two arrays. For 2D arrays, it is equivalent to matrix multiplication.\n",
    "- Dot Product: Calculated using `np.dot`. It represents the sum of the products of the corresponding entries of two sequences of numbers. It's a critical operation in many algorithms.\n",
    "- Cross Product: Computed with `np.cross`. This operation finds the vector perpendicular to two vectors in three-dimensional space, useful in physics and engineering.\n",
    "- Vector Norm: Calculated with `np.linalg.norm`. It measures the magnitude of a vector, essential in normalizing vectors or measuring distances"
   ]
  },
  {
   "cell_type": "code",
   "execution_count": 8,
   "id": "9ccecf64",
   "metadata": {},
   "outputs": [
    {
     "name": "stdout",
     "output_type": "stream",
     "text": [
      "[[1 2]\n",
      " [3 4]]\n",
      "\n",
      " [[5 6]\n",
      " [7 8]]\n",
      "\n",
      "Matrix multiplication result:\n",
      " [[19 22]\n",
      " [43 50]]\n",
      "\n",
      " Vectors\n",
      "\n",
      " [1 2 3]\n",
      "\n",
      " [4 5 6]\n",
      "\n",
      "Dot product of two vectors: 32\n",
      "\n",
      "Cross product of two vectors: [-3  6 -3]\n",
      "\n",
      "Norm of the vector: 3.7416573867739413\n"
     ]
    }
   ],
   "source": [
    "# Defining two 2D arrays (matrices)\n",
    "matrix1 = np.array([[1, 2], [3, 4]])\n",
    "matrix2 = np.array([[5, 6], [7, 8]])\n",
    "print(matrix1)\n",
    "print(\"\\n\", matrix2)\n",
    "\n",
    "# Matrix multiplication\n",
    "matrix_product = matrix1 @ matrix2\n",
    "print(\"\\nMatrix multiplication result:\\n\", matrix_product)\n",
    "\n",
    "# Dot product of two vectors\n",
    "vector1 = np.array([1, 2, 3])\n",
    "vector2 = np.array([4, 5, 6])\n",
    "print(\"\\n Vectors\")\n",
    "print(\"\\n\", vector1)\n",
    "print(\"\\n\", vector2)\n",
    "\n",
    "dot_product = np.dot(vector1, vector2)\n",
    "print(\"\\nDot product of two vectors:\", dot_product)\n",
    "\n",
    "# Cross product of two vectors\n",
    "cross_product = np.cross(vector1, vector2)\n",
    "print(\"\\nCross product of two vectors:\", cross_product)\n",
    "\n",
    "# Calculating the norm (magnitude) of a vector\n",
    "vector_norm = np.linalg.norm(vector1)\n",
    "print(\"\\nNorm of the vector:\", vector_norm)"
   ]
  },
  {
   "cell_type": "code",
   "execution_count": null,
   "id": "cd42727d",
   "metadata": {},
   "outputs": [],
   "source": []
  }
 ],
 "metadata": {
  "kernelspec": {
   "display_name": "Python 3 (ipykernel)",
   "language": "python",
   "name": "python3"
  },
  "language_info": {
   "codemirror_mode": {
    "name": "ipython",
    "version": 3
   },
   "file_extension": ".py",
   "mimetype": "text/x-python",
   "name": "python",
   "nbconvert_exporter": "python",
   "pygments_lexer": "ipython3",
   "version": "3.11.5"
  }
 },
 "nbformat": 4,
 "nbformat_minor": 5
}
