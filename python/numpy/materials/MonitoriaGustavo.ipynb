{
 "cells": [
  {
   "cell_type": "markdown",
   "metadata": {},
   "source": [
    "## Monitoria PCD - 19/02"
   ]
  },
  {
   "cell_type": "code",
   "execution_count": 1,
   "metadata": {},
   "outputs": [],
   "source": [
    "import numpy as np"
   ]
  },
  {
   "cell_type": "markdown",
   "metadata": {},
   "source": [
    "### Exercício 1)\n",
    "Utilize comprehension para gerar a lista de todos os números interios entre 0 e 19. Converta a lista em um <font color='blue'>numpy</font> array bidimensional (matriz) com 4 linhas e 5 colunas."
   ]
  },
  {
   "cell_type": "code",
   "execution_count": 2,
   "metadata": {},
   "outputs": [
    {
     "name": "stdout",
     "output_type": "stream",
     "text": [
      "[ 0  1  2  3  4  5  6  7  8  9 10 11 12 13 14 15 16 17 18 19]\n",
      "(20,)\n",
      "1\n",
      "[[ 0  1  2  3  4]\n",
      " [ 5  6  7  8  9]\n",
      " [10 11 12 13 14]\n",
      " [15 16 17 18 19]]\n",
      "(4, 5)\n",
      "2\n"
     ]
    }
   ],
   "source": [
    "# lista = []\n",
    "# for i in range(20):\n",
    "#     lista.append(i)\n",
    "\n",
    "lista = [i for i in range(20)]\n",
    "\n",
    "arr = np.array(lista)\n",
    "print(arr)\n",
    "print(arr.shape)\n",
    "print(arr.ndim)\n",
    "\n",
    "arr2 = arr.reshape(4, 5)\n",
    "print(arr2)\n",
    "print(arr2.shape)\n",
    "print(arr2.ndim)"
   ]
  },
  {
   "cell_type": "code",
   "execution_count": 3,
   "metadata": {},
   "outputs": [
    {
     "name": "stdout",
     "output_type": "stream",
     "text": [
      "(20,)\n",
      "1\n",
      "[ 0  1  2  3  4  5  6  7  8  9 10 11 12 13 14 15 16 17 18 19]\n",
      "(20, 1)\n",
      "2\n",
      "[[ 0]\n",
      " [ 1]\n",
      " [ 2]\n",
      " [ 3]\n",
      " [ 4]\n",
      " [ 5]\n",
      " [ 6]\n",
      " [ 7]\n",
      " [ 8]\n",
      " [ 9]\n",
      " [10]\n",
      " [11]\n",
      " [12]\n",
      " [13]\n",
      " [14]\n",
      " [15]\n",
      " [16]\n",
      " [17]\n",
      " [18]\n",
      " [19]]\n",
      "(1, 20)\n",
      "2\n",
      "[[ 0  1  2  3  4  5  6  7  8  9 10 11 12 13 14 15 16 17 18 19]]\n"
     ]
    }
   ],
   "source": [
    "# Vamos ver a diferença entre shapes\n",
    "\n",
    "arr_teste = np.array([i for i in range(20)])\n",
    "print(arr_teste.shape)\n",
    "print(arr_teste.ndim)\n",
    "print(arr_teste)\n",
    "\n",
    "arr_teste2 = arr_teste.reshape(20, 1)\n",
    "print(arr_teste2.shape)\n",
    "print(arr_teste2.ndim)\n",
    "print(arr_teste2)\n",
    "\n",
    "arr_teste3 = arr_teste.reshape(1, 20)\n",
    "print(arr_teste3.shape)\n",
    "print(arr_teste3.ndim)\n",
    "print(arr_teste3)"
   ]
  },
  {
   "cell_type": "code",
   "execution_count": 5,
   "metadata": {},
   "outputs": [
    {
     "name": "stdout",
     "output_type": "stream",
     "text": [
      "[0 1 2 3 4 5]\n",
      "[[0 1 2]\n",
      " [3 4 5]]\n"
     ]
    }
   ],
   "source": [
    "arr_teste = np.array([i for i in range(6)])\n",
    "print(arr_teste)\n",
    "\n",
    "arr_teste = arr_teste.reshape(2, 3)\n",
    "print(arr_teste)"
   ]
  },
  {
   "cell_type": "code",
   "execution_count": 6,
   "metadata": {},
   "outputs": [
    {
     "name": "stdout",
     "output_type": "stream",
     "text": [
      "(2, 3) <class 'tuple'>\n",
      "formato[0] guarda linhas: 2\n",
      "formato[1] guarda colunas: 3\n"
     ]
    }
   ],
   "source": [
    "formato = arr_teste.shape\n",
    "\n",
    "print(formato, type(formato))\n",
    "\n",
    "print('formato[0] guarda linhas:', formato[0])\n",
    "print('formato[1] guarda colunas:', formato[1])"
   ]
  },
  {
   "cell_type": "markdown",
   "metadata": {},
   "source": [
    "- Vetor de tamanho N: shape = (N,) ndim = 1\n",
    "- Matriz de tamanho N (linhas) por M (colunas): shape = (N,M) ndim = 2\n",
    "\n",
    "O nome genérico para qualquer numero de dimensoes é Tensor ou no caso do Numpy é Array"
   ]
  },
  {
   "cell_type": "markdown",
   "metadata": {},
   "source": [
    "### Exercício 2)\n",
    "Construa um array unidimensional com 30 números inteiros escolhidos de forma randômica no intervalo entre 0 e 20. Reformate o array para que se torne uma matriz `A` com 5 linhas e 6 colunas."
   ]
  },
  {
   "cell_type": "code",
   "execution_count": 7,
   "metadata": {},
   "outputs": [
    {
     "name": "stdout",
     "output_type": "stream",
     "text": [
      "[ 4 14  4  0 17 12 15  5 18 10 12  0  4 16  2  2 15 17 12  4 17 12 14  0\n",
      "  4 16 11 18  9  5]\n",
      "(30,)\n",
      "1\n",
      "\n",
      "[[ 4 14  4  0 17 12]\n",
      " [15  5 18 10 12  0]\n",
      " [ 4 16  2  2 15 17]\n",
      " [12  4 17 12 14  0]\n",
      " [ 4 16 11 18  9  5]]\n",
      "(5, 6)\n",
      "2\n"
     ]
    }
   ],
   "source": [
    "arr = np.random.randint(20, size=30)\n",
    "print(arr)\n",
    "print(arr.shape)\n",
    "print(arr.ndim)\n",
    "print()\n",
    "\n",
    "A = arr.reshape(5, 6)\n",
    "print(A)\n",
    "print(A.shape)\n",
    "print(A.ndim)\n",
    "\n",
    "# Atalho\n",
    "# A = np.random.randint(20, size=(5, 6))"
   ]
  },
  {
   "cell_type": "markdown",
   "metadata": {},
   "source": [
    "### Exercício 3)\n",
    "Crie uma __view__ da matriz `A` gerada na célula anterior contendo:\n",
    "- as linhas de `A` com índices 0,1 e 3\n",
    "- as linhas de `A` com índice 1 e 2 e as colunas com índice 0,2 e 4\n",
    "- as linhas de `A` com índice 1 e 3 e as colunas com índice 1 e 3"
   ]
  },
  {
   "cell_type": "code",
   "execution_count": 8,
   "metadata": {},
   "outputs": [
    {
     "data": {
      "text/plain": [
       "array([[ 4, 14,  4,  0, 17, 12],\n",
       "       [15,  5, 18, 10, 12,  0],\n",
       "       [ 4, 16,  2,  2, 15, 17],\n",
       "       [12,  4, 17, 12, 14,  0],\n",
       "       [ 4, 16, 11, 18,  9,  5]])"
      ]
     },
     "execution_count": 8,
     "metadata": {},
     "output_type": "execute_result"
    }
   ],
   "source": [
    "A"
   ]
  },
  {
   "cell_type": "markdown",
   "metadata": {},
   "source": [
    "## A[linhas, colunas]\n",
    "\n",
    "- A[1, 3] -> Elemento na linha 1 coluna 3\n",
    "- A[1] ou A[1, :] -> Toda a linha 1\n",
    "- A[:, 1] -> Toda a coluna 1\n",
    "\n",
    "#### Seleçao:\n",
    "- A[[1, 2]] ou A[[1, 2], :] -> Todas as linhas 1 e 2\n",
    "- A[:, [2, 3]] -> Todas as colunas 2 e 3\n",
    "- A[[1, 2], [3, 4]] -> Elemento na linha 1 coluna 3 e Elemento na linha 2 coluna 4\n",
    "\n",
    "#### Slices:\n",
    "- A[1:4] ou A[1:4, :] -> Linhas de 1 até 4 (1, 2 e 3) com toda a coluna\n",
    "- A[:, 2:5] -> Colunas de 2 até 5 (2, 3, 4) com toda a linha\n",
    "- A[1:3, 2:4] -> Linhas de 1 até 3 (1, 2) com coluna de 2 ate 4 (2, 3)"
   ]
  },
  {
   "cell_type": "code",
   "execution_count": 9,
   "metadata": {},
   "outputs": [
    {
     "data": {
      "text/plain": [
       "array([[ 5, 10],\n",
       "       [ 4, 12]])"
      ]
     },
     "execution_count": 9,
     "metadata": {},
     "output_type": "execute_result"
    }
   ],
   "source": [
    "A_l1e3 = A[[1, 3]]\n",
    "res = A_l1e3[:, [1, 3]]\n",
    "\n",
    "A[[1, 3]][:, [1, 3]]"
   ]
  },
  {
   "cell_type": "code",
   "execution_count": 10,
   "metadata": {},
   "outputs": [
    {
     "data": {
      "text/plain": [
       "array([[18, 10],\n",
       "       [ 2,  2],\n",
       "       [17, 12]])"
      ]
     },
     "execution_count": 10,
     "metadata": {},
     "output_type": "execute_result"
    }
   ],
   "source": [
    "A[1:4, 2:4]"
   ]
  },
  {
   "cell_type": "code",
   "execution_count": 11,
   "metadata": {},
   "outputs": [
    {
     "data": {
      "text/plain": [
       "array([[ 4, 14,  4,  0, 17, 12],\n",
       "       [15,  5, 18, 10, 12,  0],\n",
       "       [12,  4, 17, 12, 14,  0]])"
      ]
     },
     "execution_count": 11,
     "metadata": {},
     "output_type": "execute_result"
    }
   ],
   "source": [
    "A[[0, 1, 3]]"
   ]
  },
  {
   "cell_type": "code",
   "execution_count": 12,
   "metadata": {},
   "outputs": [
    {
     "data": {
      "text/plain": [
       "array([[15, 18, 12],\n",
       "       [ 4,  2, 15]])"
      ]
     },
     "execution_count": 12,
     "metadata": {},
     "output_type": "execute_result"
    }
   ],
   "source": [
    "A[1:3, [0, 2, 4]]"
   ]
  },
  {
   "cell_type": "code",
   "execution_count": 13,
   "metadata": {},
   "outputs": [
    {
     "data": {
      "text/plain": [
       "array([[ 5, 10],\n",
       "       [ 4, 12]])"
      ]
     },
     "execution_count": 13,
     "metadata": {},
     "output_type": "execute_result"
    }
   ],
   "source": [
    "A[[1,3]][:, [1, 3]]"
   ]
  },
  {
   "cell_type": "code",
   "execution_count": 14,
   "metadata": {},
   "outputs": [
    {
     "data": {
      "text/plain": [
       "array([ 5, 12])"
      ]
     },
     "execution_count": 14,
     "metadata": {},
     "output_type": "execute_result"
    }
   ],
   "source": [
    "A[[1,3], [1, 3]]"
   ]
  },
  {
   "cell_type": "code",
   "execution_count": 15,
   "metadata": {},
   "outputs": [
    {
     "data": {
      "text/plain": [
       "array([[ 4,  4, 17],\n",
       "       [ 4,  2, 15],\n",
       "       [ 4, 11,  9]])"
      ]
     },
     "execution_count": 15,
     "metadata": {},
     "output_type": "execute_result"
    }
   ],
   "source": [
    "A[0:5:2, 0:5:2]"
   ]
  },
  {
   "cell_type": "code",
   "execution_count": null,
   "metadata": {},
   "outputs": [],
   "source": []
  }
 ],
 "metadata": {
  "kernelspec": {
   "display_name": "Python 3 (ipykernel)",
   "language": "python",
   "name": "python3"
  },
  "language_info": {
   "codemirror_mode": {
    "name": "ipython",
    "version": 3
   },
   "file_extension": ".py",
   "mimetype": "text/x-python",
   "name": "python",
   "nbconvert_exporter": "python",
   "pygments_lexer": "ipython3",
   "version": "3.9.10"
  }
 },
 "nbformat": 4,
 "nbformat_minor": 4
}
