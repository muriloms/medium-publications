{
 "cells": [
  {
   "cell_type": "code",
   "execution_count": null,
   "id": "9017a58f",
   "metadata": {},
   "outputs": [],
   "source": []
  },
  {
   "cell_type": "code",
   "execution_count": null,
   "id": "e09f2fce",
   "metadata": {},
   "outputs": [],
   "source": []
  },
  {
   "cell_type": "code",
   "execution_count": 40,
   "id": "66e277d8",
   "metadata": {},
   "outputs": [],
   "source": [
    "import random\n",
    "import pandas as pd"
   ]
  },
  {
   "cell_type": "markdown",
   "id": "39f6d803",
   "metadata": {},
   "source": [
    "## Classification accuracy"
   ]
  },
  {
   "cell_type": "code",
   "execution_count": 18,
   "id": "d0eb0c70",
   "metadata": {},
   "outputs": [
    {
     "name": "stdout",
     "output_type": "stream",
     "text": [
      "[0, 1, 0, 1, 0, 0, 0, 0, 1, 1]\n",
      "[1, 1, 0, 1, 0, 0, 1, 1, 0, 1]\n",
      "Classification accuracy: 0.6\n"
     ]
    }
   ],
   "source": [
    "def accuracy(y_true, y_pred):\n",
    "    labels = 0\n",
    "    for true, pred in zip(y_true, y_pred):\n",
    "        if true == pred:\n",
    "            labels += 1\n",
    "    return labels / len(y_true)\n",
    "\n",
    "y_true = [random.choice([0, 1]) for _ in range(10)]\n",
    "y_pred = [random.choice([0,1]) for _ in range(10)]\n",
    "\n",
    "res = accuracy(y_true, y_pred)\n",
    "\n",
    "print(y_true)\n",
    "print(y_pred)\n",
    "\n",
    "print(\"Classification accuracy: {}\".format(res))"
   ]
  },
  {
   "cell_type": "markdown",
   "id": "64e2a134",
   "metadata": {},
   "source": [
    "## Logarithmic Loss or Log Loss"
   ]
  },
  {
   "cell_type": "code",
   "execution_count": 19,
   "id": "1a7518d4",
   "metadata": {},
   "outputs": [
    {
     "name": "stdout",
     "output_type": "stream",
     "text": [
      "Log Loss: 0.20273661557656092\n"
     ]
    }
   ],
   "source": [
    "from sklearn.metrics import log_loss\n",
    "\n",
    "y_true = [1, 0, 1, 1, 0]\n",
    "y_pred_prob = [0.9, 0.1, 0.8, 0.7, 0.2]\n",
    "\n",
    "# Calculando o Log Loss\n",
    "loss = log_loss(y_true, y_pred_prob)\n",
    "\n",
    "print(\"Log Loss:\", loss)"
   ]
  },
  {
   "cell_type": "markdown",
   "id": "e06e4d50",
   "metadata": {},
   "source": [
    "## Confusion matrix"
   ]
  },
  {
   "cell_type": "code",
   "execution_count": 22,
   "id": "f4c58e24",
   "metadata": {},
   "outputs": [
    {
     "name": "stdout",
     "output_type": "stream",
     "text": [
      "[1, 1, 0, 1, 0, 0, 1, 1, 0, 1]\n",
      "[0, 1, 1, 0, 1, 1, 1, 1, 1, 0]\n"
     ]
    },
    {
     "data": {
      "text/plain": [
       "array([[0, 4],\n",
       "       [3, 3]], dtype=int64)"
      ]
     },
     "execution_count": 22,
     "metadata": {},
     "output_type": "execute_result"
    }
   ],
   "source": [
    "from sklearn.metrics import confusion_matrix\n",
    "\n",
    "y_true = [random.choice([0,1]) for _ in range(10)]\n",
    "y_pred = [random.choice([0,1]) for _ in range(10)]\n",
    "\n",
    "print(y_true)\n",
    "print(y_pred)\n",
    "confusion_matrix(y_true, y_pred)"
   ]
  },
  {
   "cell_type": "markdown",
   "id": "3881a824",
   "metadata": {},
   "source": [
    "### Accuracy"
   ]
  },
  {
   "cell_type": "code",
   "execution_count": 29,
   "id": "e56fcf4e",
   "metadata": {},
   "outputs": [
    {
     "name": "stdout",
     "output_type": "stream",
     "text": [
      "[1, 0, 1, 1, 1, 1, 1, 1, 1, 0]\n",
      "[1, 1, 1, 0, 1, 1, 1, 0, 0, 0]\n",
      "Accuracy score:  0.6\n"
     ]
    }
   ],
   "source": [
    "from sklearn.metrics import accuracy_score\n",
    "\n",
    "y_true = [random.choice([0,1]) for _ in range(10)]\n",
    "y_pred = [random.choice([0,1]) for _ in range(10)]\n",
    "\n",
    "print(y_true)\n",
    "print(y_pred)\n",
    "print(\"Accuracy score: \", accuracy_score(y_true, y_pred))"
   ]
  },
  {
   "cell_type": "markdown",
   "id": "e03c1d6a",
   "metadata": {},
   "source": [
    "### Precision"
   ]
  },
  {
   "cell_type": "code",
   "execution_count": 33,
   "id": "82241405",
   "metadata": {},
   "outputs": [
    {
     "name": "stdout",
     "output_type": "stream",
     "text": [
      "[1, 0, 1, 0, 1, 0, 0, 1, 0, 1]\n",
      "[1, 1, 0, 0, 0, 0, 1, 0, 0, 0]\n",
      "Precision score:  0.3333333333333333\n"
     ]
    }
   ],
   "source": [
    "from sklearn.metrics import precision_score\n",
    "\n",
    "y_true = [random.choice([0,1]) for _ in range(10)]\n",
    "y_pred = [random.choice([0,1]) for _ in range(10)]\n",
    "\n",
    "print(y_true)\n",
    "print(y_pred)\n",
    "print(\"Precision score: \", precision_score(y_true, y_pred))"
   ]
  },
  {
   "cell_type": "markdown",
   "id": "34fa47f6",
   "metadata": {},
   "source": [
    "### Recall or sensitivity"
   ]
  },
  {
   "cell_type": "code",
   "execution_count": 34,
   "id": "647f0cf6",
   "metadata": {},
   "outputs": [
    {
     "name": "stdout",
     "output_type": "stream",
     "text": [
      "[1, 1, 0, 0, 0, 1, 0, 1, 1, 1]\n",
      "[1, 1, 0, 1, 0, 1, 1, 0, 1, 0]\n",
      "Recall score:  0.6666666666666666\n"
     ]
    }
   ],
   "source": [
    "from sklearn.metrics import recall_score\n",
    "\n",
    "y_true = [random.choice([0,1]) for _ in range(10)]\n",
    "y_pred = [random.choice([0,1]) for _ in range(10)]\n",
    "\n",
    "print(y_true)\n",
    "print(y_pred)\n",
    "print(\"Recall score: \", recall_score(y_true, y_pred))"
   ]
  },
  {
   "cell_type": "markdown",
   "id": "fafa2c26",
   "metadata": {},
   "source": [
    "### f1-score"
   ]
  },
  {
   "cell_type": "code",
   "execution_count": 35,
   "id": "28bf07d6",
   "metadata": {},
   "outputs": [
    {
     "name": "stdout",
     "output_type": "stream",
     "text": [
      "[1, 1, 1, 1, 0, 1, 1, 1, 0, 1]\n",
      "[0, 1, 0, 1, 1, 0, 0, 1, 1, 1]\n",
      "F1 score:  0.5714285714285715\n"
     ]
    }
   ],
   "source": [
    "from sklearn.metrics import f1_score\n",
    "\n",
    "y_true = [random.choice([0,1]) for _ in range(10)]\n",
    "y_pred = [random.choice([0,1]) for _ in range(10)]\n",
    "\n",
    "print(y_true)\n",
    "print(y_pred)\n",
    "print(\"F1 score: \", f1_score(y_true, y_pred))"
   ]
  },
  {
   "cell_type": "code",
   "execution_count": null,
   "id": "dcdaa3db",
   "metadata": {},
   "outputs": [],
   "source": []
  },
  {
   "cell_type": "code",
   "execution_count": 41,
   "id": "d6da6bf0",
   "metadata": {},
   "outputs": [
    {
     "name": "stdout",
     "output_type": "stream",
     "text": [
      "[1, 0, 0, 0, 1, 1, 0, 1, 1, 1]\n",
      "[0, 0, 1, 0, 0, 0, 0, 1, 0, 0]\n",
      "               0         1  accuracy  macro avg  weighted avg\n",
      "precision  0.375  0.500000       0.4   0.437500          0.45\n",
      "recall     0.750  0.166667       0.4   0.458333          0.40\n",
      "f1-score   0.500  0.250000       0.4   0.375000          0.35\n",
      "support    4.000  6.000000       0.4  10.000000         10.00\n"
     ]
    }
   ],
   "source": [
    "from sklearn.metrics import accuracy_score, classification_report\n",
    "\n",
    "y_true = [random.choice([0,1]) for _ in range(10)]\n",
    "y_pred = [random.choice([0,1]) for _ in range(10)]\n",
    "\n",
    "print(y_true)\n",
    "print(y_pred)\n",
    "\n",
    "test_cf_report = classification_report(y_true, y_pred, output_dict=True)\n",
    "print(pd.DataFrame(test_cf_report))"
   ]
  },
  {
   "cell_type": "code",
   "execution_count": null,
   "id": "c6c7bbf7",
   "metadata": {},
   "outputs": [],
   "source": []
  }
 ],
 "metadata": {
  "kernelspec": {
   "display_name": "Python 3 (ipykernel)",
   "language": "python",
   "name": "python3"
  },
  "language_info": {
   "codemirror_mode": {
    "name": "ipython",
    "version": 3
   },
   "file_extension": ".py",
   "mimetype": "text/x-python",
   "name": "python",
   "nbconvert_exporter": "python",
   "pygments_lexer": "ipython3",
   "version": "3.11.5"
  }
 },
 "nbformat": 4,
 "nbformat_minor": 5
}
