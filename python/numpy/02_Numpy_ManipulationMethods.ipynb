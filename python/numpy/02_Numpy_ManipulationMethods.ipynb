{
 "cells": [
  {
   "cell_type": "markdown",
   "id": "2e8e97a7",
   "metadata": {},
   "source": [
    "# Manipulation Methods\n",
    "\n",
    "This Jupyter Notebook is part of a series of code resources made available in the repository linked to my Medium publication on the NumPy library. The series is designed to provide readers with practical, in-depth understanding of various NumPy functionalities, an essential library for scientific computing in Python. Here, we explore everything from basic concepts and array manipulation to advanced mathematical operations and broadcasting techniques, offering detailed code examples for each topic covered.\n",
    "\n",
    "Medium:\n",
    "\n",
    "Numpy: https://numpy.org/\n",
    "\n",
    "----\n",
    "\n",
    "This notebook addresses advanced array manipulation methods in NumPy, allowing for sophisticated reorganization and transformation of arrays. We explore methods like:\n",
    "\n",
    "- reshape, ravel, and flatten for changing the shape or dimensionality of arrays.\n",
    "- transpose for the transposition of arrays.\n",
    "- concatenate for combining multiple arrays into a single array.\n",
    "\n",
    "These methods are fundamental for data manipulation and preparation ahead of more complex analyses or mathematical operations."
   ]
  },
  {
   "cell_type": "code",
   "execution_count": 1,
   "id": "4bc88056",
   "metadata": {},
   "outputs": [],
   "source": [
    "import numpy as np"
   ]
  },
  {
   "cell_type": "markdown",
   "id": "ceab3bdb",
   "metadata": {},
   "source": [
    "# Reshape\n",
    "\n",
    "The reshape method allows you to reorganize the array by changing the number of rows and columns. However, the new shape must have the same number of elements as the original array."
   ]
  },
  {
   "cell_type": "code",
   "execution_count": 8,
   "id": "33699829",
   "metadata": {},
   "outputs": [
    {
     "name": "stdout",
     "output_type": "stream",
     "text": [
      "[[1 2 3]\n",
      " [4 5 6]\n",
      " [7 8 9]] \n",
      "\n",
      "Reshaped array (1x9): [[1 2 3 4 5 6 7 8 9]]\n"
     ]
    }
   ],
   "source": [
    "# Creating a two-dimensional numpy array\n",
    "array_2d = np.array([[1, 2, 3], [4, 5, 6], [7, 8, 9]])\n",
    "print(array_2d, \"\\n\")\n",
    "\n",
    "# Using reshape to change the array's shape to 1 row and 9 columns\n",
    "# This method allows us to reorganize data in the array, maintaining the same number of elements.\n",
    "\n",
    "reshaped_array = array_2d.reshape((1, 9))\n",
    "print(\"Reshaped array (1x9):\", reshaped_array)"
   ]
  },
  {
   "cell_type": "markdown",
   "id": "4a3fec35",
   "metadata": {},
   "source": [
    "# Ravel\n",
    "\n",
    "The ravel method flattens the array into a one-dimensional array by concatenating its rows. It creates a view of the original array, which means if an element in the raveled array is modified, the original array is also affected."
   ]
  },
  {
   "cell_type": "code",
   "execution_count": 9,
   "id": "959acae6",
   "metadata": {},
   "outputs": [
    {
     "name": "stdout",
     "output_type": "stream",
     "text": [
      "[[1 2 3]\n",
      " [4 5 6]\n",
      " [7 8 9]] \n",
      "\n",
      "Raveled array: [1 2 3 4 5 6 7 8 9]\n",
      "Original array after modifying the raveled array: [[99  2  3]\n",
      " [ 4  5  6]\n",
      " [ 7  8  9]]\n"
     ]
    }
   ],
   "source": [
    "# Creating a two-dimensional numpy array\n",
    "array_2d = np.array([[1, 2, 3], [4, 5, 6], [7, 8, 9]])\n",
    "print(array_2d, \"\\n\")\n",
    "\n",
    "# Using ravel to flatten the array into a one-dimensional array\n",
    "raveled_array = array_2d.ravel()\n",
    "print(\"Raveled array:\", raveled_array)\n",
    "# The ravel method creates a one-dimensional view of the array. Changes to this array will affect the original array.\n",
    "\n",
    "# Demonstrating the view behavior of ravel\n",
    "raveled_array[0] = 99\n",
    "print(\"Original array after modifying the raveled array:\", array_2d)\n",
    "# Since ravel creates a view, the modification is reflected in the original array.\n",
    "\n",
    "# Resetting the original array for clarity\n",
    "array_2d[0, 0] = 1\n"
   ]
  },
  {
   "cell_type": "markdown",
   "id": "9c88ae33",
   "metadata": {},
   "source": [
    "# Flatten\n",
    "\n",
    "The flatten method also transforms the array into a one-dimensional array by concatenating its rows but, unlike ravel, it creates a copy of the array elements. Consequently, modifications to the flattened array do not affect the original array."
   ]
  },
  {
   "cell_type": "code",
   "execution_count": 10,
   "id": "6f050877",
   "metadata": {},
   "outputs": [
    {
     "name": "stdout",
     "output_type": "stream",
     "text": [
      "[[1 2 3]\n",
      " [4 5 6]\n",
      " [7 8 9]] \n",
      "\n",
      "Flattened array: [1 2 3 4 5 6 7 8 9]\n",
      "Original array after modifying the flattened array: [[1 2 3]\n",
      " [4 5 6]\n",
      " [7 8 9]]\n"
     ]
    }
   ],
   "source": [
    "# Creating a two-dimensional numpy array\n",
    "array_2d = np.array([[1, 2, 3], [4, 5, 6], [7, 8, 9]])\n",
    "print(array_2d, \"\\n\")\n",
    "\n",
    "# Using flatten to flatten the array into a one-dimensional array\n",
    "flattened_array = array_2d.flatten()\n",
    "print(\"Flattened array:\", flattened_array)\n",
    "# Unlike ravel, flatten creates a copy of the array's data. Modifications to this array won't affect the original array.\n",
    "\n",
    "# Demonstrating the copy behavior of flatten\n",
    "flattened_array[0] = 99\n",
    "print(\"Original array after modifying the flattened array:\", array_2d)\n",
    "# Since flatten creates a copy, the original array remains unchanged after the modification.\n"
   ]
  },
  {
   "cell_type": "markdown",
   "id": "526cb396",
   "metadata": {},
   "source": [
    "# Transpose\n",
    "\n",
    "The transpose method in NumPy is used to permute the dimensions of an array. It reverses or changes the axes of the array according to the values specified. If no values are specified, it defaults to reversing the order of the axes. This is particularly useful in linear algebra, where the transpose of a matrix is a new matrix whose rows are the columns of the original.\n",
    "\n",
    "The method can be used in several ways, including the numpy.transpose function and the T attribute of an array object. While numpy.transpose allows for the specification of axes to transpose, the T attribute is a simple way to transpose a 2D array (matrix)."
   ]
  },
  {
   "cell_type": "code",
   "execution_count": 14,
   "id": "6cfb50b1",
   "metadata": {},
   "outputs": [
    {
     "name": "stdout",
     "output_type": "stream",
     "text": [
      "[[1 2 3]\n",
      " [4 5 6]] \n",
      "\n",
      "Transposed array using the T attribute:\n",
      " [[1 4]\n",
      " [2 5]\n",
      " [3 6]]\n",
      "\n",
      "----\n",
      " [[[1 2]\n",
      "  [3 4]]\n",
      "\n",
      " [[5 6]\n",
      "  [7 8]]] \n",
      "\n",
      "Transposed 3D array with specified axes:\n",
      " [[[1 2]\n",
      "  [5 6]]\n",
      "\n",
      " [[3 4]\n",
      "  [7 8]]]\n"
     ]
    }
   ],
   "source": [
    "# Creating a two-dimensional numpy array\n",
    "array_2d = np.array([[1, 2, 3], [4, 5, 6]])\n",
    "print(array_2d, \"\\n\")\n",
    "\n",
    "# Using the T attribute to transpose the 2D array\n",
    "# This switches rows and columns of the array.\n",
    "transposed_array_T = array_2d.T\n",
    "print(\"Transposed array using the T attribute:\\n\", transposed_array_T)\n",
    "\n",
    "\n",
    "# Creating a three-dimensional numpy array\n",
    "array_3d = np.array([[[1, 2], [3, 4]], [[5, 6], [7, 8]]])\n",
    "print(\"\\n----\\n\",array_3d, \"\\n\")\n",
    "\n",
    "# Using numpy.transpose to transpose the 3D array, specifying axes\n",
    "# This swaps the first two axes of the 3D array.\n",
    "transposed_array_3d = np.transpose(array_3d, axes=(1, 0, 2))\n",
    "print(\"Transposed 3D array with specified axes:\\n\", transposed_array_3d)"
   ]
  },
  {
   "cell_type": "markdown",
   "id": "01577c27",
   "metadata": {},
   "source": [
    "# Concatenate\n",
    "\n",
    "\n",
    "The concatenate method in NumPy is a fundamental tool for combining arrays along a specified axis. This method takes a sequence of arrays and joins them together in the order provided. The arrays must have the same shape, except in the dimension corresponding to the axis along which they are concatenated. For example, to concatenate two matrices (2D arrays) vertically, they must have the same number of columns but can have a different number of rows.\n",
    "\n",
    "NumPy provides several functions for convenience, such as np.vstack (vertical stack) and np.hstack (horizontal stack), which are specific cases of concatenation along the first and second axes, respectively."
   ]
  },
  {
   "cell_type": "code",
   "execution_count": 20,
   "id": "486726a4",
   "metadata": {},
   "outputs": [
    {
     "name": "stdout",
     "output_type": "stream",
     "text": [
      "Concatenated 1D arrays: [1 2 3 4 5 6]\n",
      "Vertically stacked 2D arrays:\n",
      " [[ 1  2  3]\n",
      " [ 4  5  6]\n",
      " [10 11 12]\n",
      " [13 14 15]]\n",
      "Horizontally stacked arrays:\n",
      " [[ 1  2  3 10 11 12]\n",
      " [ 4  5  6 13 14 15]]\n",
      "Concatenated 2D arrays along axis 0:\n",
      " [[ 1  2  3]\n",
      " [ 4  5  6]\n",
      " [10 11 12]\n",
      " [13 14 15]]\n"
     ]
    }
   ],
   "source": [
    "import numpy as np\n",
    "\n",
    "# Creating two one-dimensional arrays\n",
    "array1 = np.array([1, 2, 3])\n",
    "array2 = np.array([4, 5, 6])\n",
    "\n",
    "# Concatenating the two arrays\n",
    "# This joins the arrays end-to-end into a single array.\n",
    "concatenated_array = np.concatenate((array1, array2))\n",
    "print(\"Concatenated 1D arrays:\", concatenated_array)\n",
    "\n",
    "\n",
    "# Creating two two-dimensional arrays\n",
    "array1_2d = np.array([[1, 2, 3], [4, 5, 6]])\n",
    "array2_2d = np.array([[10, 11, 12], [13, 14, 15]])\n",
    "\n",
    "# Vertically stacking the 2D arrays\n",
    "# This stacks the arrays on top of each other, increasing the number of rows.\n",
    "vstack_array = np.vstack((array1_2d, array2_2d))\n",
    "print(\"Vertically stacked 2D arrays:\\n\", vstack_array)\n",
    "\n",
    "\n",
    "# Horizontally stacking arrays\n",
    "# This places the arrays side by side, increasing the number of columns.\n",
    "hstack_array = np.hstack((array1_2d, array2_2d))\n",
    "print(\"Horizontally stacked arrays:\\n\", hstack_array)\n",
    "\n",
    "\n",
    "# Demonstrating concatenation on 2D arrays along a specific axis\n",
    "# Similar to vstack in this case, combining the arrays vertically.\n",
    "concatenated_2d = np.concatenate((array1_2d, array2_2d), axis=0)\n",
    "print(\"Concatenated 2D arrays along axis 0:\\n\", concatenated_2d)\n"
   ]
  },
  {
   "cell_type": "code",
   "execution_count": null,
   "id": "bb442c86",
   "metadata": {},
   "outputs": [],
   "source": []
  }
 ],
 "metadata": {
  "kernelspec": {
   "display_name": "Python 3 (ipykernel)",
   "language": "python",
   "name": "python3"
  },
  "language_info": {
   "codemirror_mode": {
    "name": "ipython",
    "version": 3
   },
   "file_extension": ".py",
   "mimetype": "text/x-python",
   "name": "python",
   "nbconvert_exporter": "python",
   "pygments_lexer": "ipython3",
   "version": "3.11.5"
  }
 },
 "nbformat": 4,
 "nbformat_minor": 5
}
