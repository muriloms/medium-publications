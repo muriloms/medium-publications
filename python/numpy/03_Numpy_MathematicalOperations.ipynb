{
 "cells": [
  {
   "cell_type": "markdown",
   "id": "8bfac764",
   "metadata": {},
   "source": [
    "# Mathematical Operations\n",
    "\n",
    "This Jupyter Notebook is part of a series of code resources made available in the repository linked to my Medium publication on the NumPy library. The series is designed to provide readers with practical, in-depth understanding of various NumPy functionalities, an essential library for scientific computing in Python. Here, we explore everything from basic concepts and array manipulation to advanced mathematical operations and broadcasting techniques, offering detailed code examples for each topic covered.\n",
    "\n",
    "Medium:\n",
    "\n",
    "Numpy: https://numpy.org/\n",
    "\n",
    "----\n",
    "\n",
    "This notebook explores a wide range of mathematical operations available in NumPy, from trigonometric functions to statistical methods, offering a toolkit for analysis and data processing. We detail:\n",
    "\n",
    "- Trigonometric functions for manipulation and analysis of geometric or periodic data.\n",
    "- Sum and product operations for aggregate calculations.\n",
    "- Square root, exponentials, and logarithms for mathematical transformations.\n",
    "- Statistical methods and comparison functions for data analysis.\n",
    "\n",
    "This content is essential for those looking to use NumPy for advanced mathematics and data science tasks."
   ]
  },
  {
   "cell_type": "code",
   "execution_count": 1,
   "id": "b4ca062e",
   "metadata": {},
   "outputs": [],
   "source": [
    "import numpy as np"
   ]
  },
  {
   "cell_type": "markdown",
   "id": "5b1c52f1",
   "metadata": {},
   "source": [
    "# Trigonometric functions\n",
    "\n",
    "\n",
    "NumPy provides a comprehensive set of trigonometric functions that allow for the efficient computation of cosine, sine, tangent, and other trigonometric operations on arrays. These functions are vectorized, meaning they can be applied element-wise to arrays, making it straightforward to perform complex trigonometric calculations on large datasets.\n",
    "\n",
    "The trigonometric functions in NumPy include but are not limited to `np.sin()` for calculating the sine, `np.cos()` for the cosine, and `np.tan()` for the tangent of angles provided in radians. In addition to these basic trigonometric functions, NumPy offers functions for hyperbolic trigonometry, such as `np.sinh()`, `np.cosh()`, and `np.tanh()`, as well as functions to convert degrees to radians (`np.deg2rad()`) and radians to degrees (`np.rad2deg()`), facilitating the transition between different units of angle measurement."
   ]
  },
  {
   "cell_type": "code",
   "execution_count": 5,
   "id": "5c584435",
   "metadata": {},
   "outputs": [
    {
     "name": "stdout",
     "output_type": "stream",
     "text": [
      "Angles degrees:  [ 0 30 45 60 90]\n",
      "\n",
      "Angles radians:  [0.         0.52359878 0.78539816 1.04719755 1.57079633]\n",
      "\n",
      "Sine values of angles: [0.         0.5        0.70710678 0.8660254  1.        ]\n",
      "\n",
      "Cosine values of angles: [1.00000000e+00 8.66025404e-01 7.07106781e-01 5.00000000e-01\n",
      " 6.12323400e-17]\n",
      "\n",
      "Tangent values of angles: [0.00000000e+00 5.77350269e-01 1.00000000e+00 1.73205081e+00\n",
      " 1.63312394e+16]\n",
      "\n",
      "Arcsine (in degrees) of sine values: [ 0. 30. 45. 60. 90.]\n",
      "\n",
      "Hyperbolic sine values of angles: [0.         0.54785347 0.86867096 1.24936705 2.3012989 ]\n"
     ]
    }
   ],
   "source": [
    "# Creating an array of angles in degrees\n",
    "angles_degrees = np.array([0, 30, 45, 60, 90])\n",
    "print(\"Angles degrees: \",angles_degrees)\n",
    "\n",
    "# Converting angles to radians since trigonometric functions expect angles in radians\n",
    "angles_radians = np.deg2rad(angles_degrees)\n",
    "print(\"\\nAngles radians: \",angles_radians)\n",
    "\n",
    "# Calculating sine of each angle\n",
    "sine_values = np.sin(angles_radians)\n",
    "print(\"\\nSine values of angles:\", sine_values)\n",
    "\n",
    "# Calculating cosine of each angle\n",
    "cosine_values = np.cos(angles_radians)\n",
    "print(\"\\nCosine values of angles:\", cosine_values)\n",
    "\n",
    "# Calculating tangent of each angle\n",
    "tangent_values = np.tan(angles_radians)\n",
    "print(\"\\nTangent values of angles:\", tangent_values)\n",
    "\n",
    "# Demonstrating inverse trigonometric functions by calculating the arc sine (inverse of sine)\n",
    "# This returns the angles in radians, so let's convert it back to degrees for readability\n",
    "arc_sine_degrees = np.rad2deg(np.arcsin(sine_values))\n",
    "print(\"\\nArcsine (in degrees) of sine values:\", arc_sine_degrees)\n",
    "\n",
    "# Demonstrating hyperbolic sine function on the radians array\n",
    "sinh_values = np.sinh(angles_radians)\n",
    "print(\"\\nHyperbolic sine values of angles:\", sinh_values)\n"
   ]
  },
  {
   "cell_type": "markdown",
   "id": "d1188047",
   "metadata": {},
   "source": [
    "# Sum and product\n",
    "\n",
    "NumPy provides efficient functions for calculating the sum and product of array elements: `np.sum` and `np.prod`, respectively. These functions are highly versatile, allowing for the computation of the total sum or product over the entire array or along a specified axis. This flexibility makes it easy to perform column-wise or row-wise aggregations on multi-dimensional arrays, an essential operation in many data processing tasks.\n",
    "\n",
    "- `np.sum`: Calculates the sum of array elements. You can specify the axis (e.g., 0 for columns, 1 for rows in a 2D array) to perform the summation across. Without specifying the axis, it sums up all elements in the array.\n",
    "- `np.prod`: Computes the product of array elements. Similar to np.sum, you can determine the axis along which to calculate the product, or omit the axis parameter to compute the product of all elements in the array."
   ]
  },
  {
   "cell_type": "code",
   "execution_count": 8,
   "id": "83ba4180",
   "metadata": {},
   "outputs": [
    {
     "name": "stdout",
     "output_type": "stream",
     "text": [
      "[[1 2 3]\n",
      " [4 5 6]]\n",
      "\n",
      "Total sum of all elements: 21\n",
      "\n",
      "Sum of elements along columns: [5 7 9]\n",
      "\n",
      "Sum of elements along rows: [ 6 15]\n",
      "\n",
      "Total product of all elements: 720\n",
      "\n",
      "Product of elements along columns: [ 4 10 18]\n",
      "\n",
      "Product of elements along rows: [  6 120]\n"
     ]
    }
   ],
   "source": [
    "# Creating a two-dimensional numpy array\n",
    "array_2d = np.array([[1, 2, 3], [4, 5, 6]])\n",
    "print(array_2d)\n",
    "\n",
    "# Calculating the sum of all elements in the array\n",
    "total_sum = np.sum(array_2d)\n",
    "print(\"\\nTotal sum of all elements:\", total_sum)\n",
    "\n",
    "# Calculating the sum along the columns (axis 0)\n",
    "sum_columns = np.sum(array_2d, axis=0)\n",
    "print(\"\\nSum of elements along columns:\", sum_columns)\n",
    "\n",
    "# Calculating the sum along the rows (axis 1)\n",
    "sum_rows = np.sum(array_2d, axis=1)\n",
    "print(\"\\nSum of elements along rows:\", sum_rows)\n",
    "\n",
    "# Calculating the product of all elements in the array\n",
    "total_product = np.prod(array_2d)\n",
    "print(\"\\nTotal product of all elements:\", total_product)\n",
    "\n",
    "# Calculating the product along the columns (axis 0)\n",
    "product_columns = np.prod(array_2d, axis=0)\n",
    "print(\"\\nProduct of elements along columns:\", product_columns)\n",
    "\n",
    "# Calculating the product along the rows (axis 1)\n",
    "product_rows = np.prod(array_2d, axis=1)\n",
    "print(\"\\nProduct of elements along rows:\", product_rows)\n"
   ]
  },
  {
   "cell_type": "markdown",
   "id": "570fcff9",
   "metadata": {},
   "source": [
    "# Square root\n",
    "\n",
    "\n",
    "The square root function in NumPy, `np.sqrt`, computes the square root of each element in an array. This function is essential for various mathematical computations, especially in scientific and engineering applications where calculating the magnitude of vectors, distances between points, or applying certain mathematical formulas requires square roots.\n",
    "\n",
    "NumPy's `np.sqrt` function is vectorized, meaning it can perform the square root operation on each element of an array individually and efficiently, without the need for explicit loops."
   ]
  },
  {
   "cell_type": "code",
   "execution_count": 10,
   "id": "34a9b453",
   "metadata": {},
   "outputs": [
    {
     "name": "stdout",
     "output_type": "stream",
     "text": [
      "[ 1  4  9 16 25]\n",
      "\n",
      "Square root of each element: [1. 2. 3. 4. 5.]\n",
      "\n",
      " [[ 1  2  3]\n",
      " [ 4  9 16]]\n",
      "\n",
      "Square root of each element in the 2D array:\n",
      " [[1.         1.41421356 1.73205081]\n",
      " [2.         3.         4.        ]]\n",
      "\n",
      " [ 1.+4.j 16.+9.j]\n",
      "\n",
      "Square root of complex numbers: [1.60048518+1.24962107j 4.14472917+1.0857163j ]\n"
     ]
    }
   ],
   "source": [
    "# Creating a one-dimensional numpy array of positive numbers\n",
    "array_1d = np.array([1, 4, 9, 16, 25])\n",
    "print(array_1d)\n",
    "\n",
    "# Calculating the square root of each element in the array\n",
    "sqrt_array = np.sqrt(array_1d)\n",
    "print(\"\\nSquare root of each element:\", sqrt_array)\n",
    "\n",
    "# Creating a two-dimensional numpy array\n",
    "array_2d = np.array([[1, 2, 3], [4, 9, 16]])\n",
    "print(\"\\n\", array_2d)\n",
    "\n",
    "# Calculating the square root of each element in the 2D array\n",
    "sqrt_array_2d = np.sqrt(array_2d)\n",
    "print(\"\\nSquare root of each element in the 2D array:\\n\", sqrt_array_2d)\n",
    "\n",
    "# Demonstrating the square root of a complex number array\n",
    "complex_array = np.array([1+4j, 16+9j])\n",
    "print(\"\\n\", complex_array)\n",
    "\n",
    "sqrt_complex_array = np.sqrt(complex_array)\n",
    "print(\"\\nSquare root of complex numbers:\", sqrt_complex_array)"
   ]
  },
  {
   "cell_type": "markdown",
   "id": "c86b19cf",
   "metadata": {},
   "source": [
    "# Exponents and logarithms\n",
    "\n",
    "NumPy provides a comprehensive set of functions for computing exponents and logarithms, catering to a wide range of mathematical and scientific computing needs. These functions allow for efficient and element-wise operations on arrays, making it straightforward to perform complex calculations on large datasets."
   ]
  },
  {
   "cell_type": "code",
   "execution_count": 11,
   "id": "ce975e48",
   "metadata": {},
   "outputs": [
    {
     "name": "stdout",
     "output_type": "stream",
     "text": [
      "[1 2 3 4 5]\n",
      "\n",
      "Exponential of each element: [  2.71828183   7.3890561   20.08553692  54.59815003 148.4131591 ]\n",
      "\n",
      "Base-2 exponential of each element: [ 2.  4.  8. 16. 32.]\n",
      "\n",
      "Natural logarithm of each element: [0.         0.69314718 1.09861229 1.38629436 1.60943791]\n",
      "\n",
      "Base-2 logarithm of each element: [0.         1.         1.5849625  2.         2.32192809]\n",
      "\n",
      "Base-10 logarithm of each element: [0.         0.30103    0.47712125 0.60205999 0.69897   ]\n"
     ]
    }
   ],
   "source": [
    "# Creating a one-dimensional numpy array\n",
    "array_1d = np.array([1, 2, 3, 4, 5])\n",
    "print(array_1d)\n",
    "\n",
    "# Computing the exponential of each element\n",
    "exp_array = np.exp(array_1d)\n",
    "print(\"\\nExponential of each element:\", exp_array)\n",
    "\n",
    "\n",
    "# Computing the exponential with base 2\n",
    "exp2_array = np.exp2(array_1d)\n",
    "print(\"\\nBase-2 exponential of each element:\", exp2_array)\n",
    "\n",
    "\n",
    "# Computing the natural logarithm of each element\n",
    "log_array = np.log(array_1d)\n",
    "print(\"\\nNatural logarithm of each element:\", log_array)\n",
    "\n",
    "\n",
    "# Computing the base-2 logarithm of each element\n",
    "log2_array = np.log2(array_1d)\n",
    "print(\"\\nBase-2 logarithm of each element:\", log2_array)\n",
    "\n",
    "\n",
    "# Computing the base-10 logarithm of each element\n",
    "log10_array = np.log10(array_1d)\n",
    "print(\"\\nBase-10 logarithm of each element:\", log10_array)\n"
   ]
  },
  {
   "cell_type": "markdown",
   "id": "14f854ed",
   "metadata": {},
   "source": [
    "# Statistical methods\n",
    "NumPy offers a wide array of statistical methods that allow for the analysis and processing of data arrays. These methods include functions for calculating measures of central tendency (like mean and median), dispersion (such as standard deviation and variance), and other statistical properties (including min, max, sum, and more). Utilizing these functions helps in understanding the distribution, variability, and overall characteristics of the data."
   ]
  },
  {
   "cell_type": "code",
   "execution_count": 12,
   "id": "6d18391e",
   "metadata": {},
   "outputs": [
    {
     "name": "stdout",
     "output_type": "stream",
     "text": [
      "[1 2 3 4 5 6 7 8 9]\n",
      "\n",
      "Mean of the data: 5.0\n",
      "\n",
      "Median of the data: 5.0\n",
      "\n",
      "Standard deviation of the data: 2.581988897471611\n",
      "\n",
      "Variance of the data: 6.666666666666667\n",
      "\n",
      "Minimum value of the data: 1\n",
      "\n",
      "Maximum value of the data: 9\n",
      "\n",
      "Sum of all elements in the data: 45\n"
     ]
    }
   ],
   "source": [
    "# Creating a one-dimensional numpy array\n",
    "array_1d = np.array([1, 2, 3, 4, 5, 6, 7, 8, 9])\n",
    "print(array_1d)\n",
    "\n",
    "# Calculating the mean of the array\n",
    "mean_value = np.mean(array_1d)\n",
    "print(\"\\nMean of the data:\", mean_value)\n",
    "\n",
    "# Calculating the median of the array\n",
    "median_value = np.median(array_1d)\n",
    "print(\"\\nMedian of the data:\", median_value)\n",
    "\n",
    "# Calculating the standard deviation of the array\n",
    "std_deviation = np.std(array_1d)\n",
    "print(\"\\nStandard deviation of the data:\", std_deviation)\n",
    "\n",
    "# Calculating the variance of the array\n",
    "variance = np.var(array_1d)\n",
    "print(\"\\nVariance of the data:\", variance)\n",
    "\n",
    "# Finding the minimum value in the array\n",
    "min_value = np.min(array_1d)\n",
    "print(\"\\nMinimum value of the data:\", min_value)\n",
    "\n",
    "# Finding the maximum value in the array\n",
    "max_value = np.max(array_1d)\n",
    "print(\"\\nMaximum value of the data:\", max_value)\n",
    "\n",
    "# Summing all elements in the array\n",
    "total_sum = np.sum(array_1d)\n",
    "print(\"\\nSum of all elements in the data:\", total_sum)\n"
   ]
  },
  {
   "cell_type": "markdown",
   "id": "b5a2ba98",
   "metadata": {},
   "source": [
    "# Comparison methods\n",
    "\n",
    "NumPy provides a suite of comparison methods that allow for element-wise comparison between arrays or between arrays and scalars. These methods are crucial for data analysis, filtering, and conditional operations, enabling users to efficiently identify and act upon specific conditions within datasets.\n",
    "\n",
    "Key comparison functions include:\n",
    "\n",
    "- `np.equal` (or ==): Checks if elements are equal.\n",
    "- `np.not_equal` (or !=): Checks if elements are not equal.\n",
    "- `np.greater` (or >): Checks if elements of the first array are greater than the second array.\n",
    "- `np.greater_equal` (or >=): Checks if elements of the first array are greater than or equal to the second array.\n",
    "- `np.less` (or <): Checks if elements of the first array are less than those of the second.\n",
    "- `np.less_equal` (or <=): Checks if elements of the first array are less than or equal to the second array."
   ]
  },
  {
   "cell_type": "code",
   "execution_count": 14,
   "id": "ad8c7ad3",
   "metadata": {},
   "outputs": [
    {
     "name": "stdout",
     "output_type": "stream",
     "text": [
      "Elements equal: [False  True False  True]\n",
      "Elements not equal: [ True False  True False]\n",
      "Elements of array1 greater than array2: [False False  True False]\n",
      "Elements of array1 less than array2: [ True False False False]\n"
     ]
    }
   ],
   "source": [
    "# Creating two one-dimensional numpy arrays for comparison\n",
    "array1 = np.array([1, 3, 5, 7])\n",
    "array2 = np.array([2, 3, 4, 7])\n",
    "\n",
    "# Checking if elements are equal\n",
    "are_equal = np.equal(array1, array2)\n",
    "print(\"Elements equal:\", are_equal)\n",
    "\n",
    "# Checking if elements are not equal\n",
    "not_equal = np.not_equal(array1, array2)\n",
    "print(\"Elements not equal:\", not_equal)\n",
    "\n",
    "# Checking if elements of the first array are greater than the second\n",
    "greater_than = np.greater(array1, array2)\n",
    "print(\"Elements of array1 greater than array2:\", greater_than)\n",
    "\n",
    "# Checking if elements of array1 are less than those of array2\n",
    "less_than = np.less(array1, array2)\n",
    "print(\"Elements of array1 less than array2:\", less_than)"
   ]
  },
  {
   "cell_type": "code",
   "execution_count": null,
   "id": "7bb39f1a",
   "metadata": {},
   "outputs": [],
   "source": []
  }
 ],
 "metadata": {
  "kernelspec": {
   "display_name": "Python 3 (ipykernel)",
   "language": "python",
   "name": "python3"
  },
  "language_info": {
   "codemirror_mode": {
    "name": "ipython",
    "version": 3
   },
   "file_extension": ".py",
   "mimetype": "text/x-python",
   "name": "python",
   "nbconvert_exporter": "python",
   "pygments_lexer": "ipython3",
   "version": "3.11.5"
  }
 },
 "nbformat": 4,
 "nbformat_minor": 5
}
